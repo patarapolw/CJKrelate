{
 "cells": [
  {
   "cell_type": "code",
   "execution_count": null,
   "metadata": {},
   "outputs": [],
   "source": [
    "from manual import Manual\n",
    "from relatedCJKchar import Related\n",
    "from relatedCJKchar.decompose import Decompose\n",
    "from relatedCJKchar.sort import Sort\n",
    "decom = Decompose()\n",
    "man = Manual()\n",
    "rel = Related()\n",
    "sort = Sort()"
   ]
  },
  {
   "cell_type": "code",
   "execution_count": 6,
   "metadata": {},
   "outputs": [
    {
     "name": "stdout",
     "output_type": "stream",
     "text": [
      "1-10 Pleasant\n",
      "你好说                                                \n",
      "                                               话  您\n",
      "                                                   \n",
      "           语                                       \n",
      "                                 谈                 \n",
      "                                                   \n",
      "                                                   \n",
      "                                                   \n",
      "                                                   \n",
      "                                                   \n",
      "11-20 Painful\n",
      "                                                   \n",
      "                                                   \n",
      "                                                   \n",
      "                                                   \n",
      "                                                   \n",
      "                                                   \n",
      "                                                   \n",
      "                                                   \n",
      "                                                   \n",
      "                                                   \n",
      "21-30 Death\n",
      "                                                   \n",
      "                            税                      \n",
      "                                                   \n",
      "                                                   \n",
      "                                                   \n",
      "                                                   \n",
      "                                                   \n",
      "                                                   \n",
      "                                                   \n",
      "                                                   \n",
      "31-40 Hell\n",
      "                                                   \n",
      "           称                                       \n",
      "                                                   \n",
      "                                                   \n",
      "                                                   \n",
      "                                                   \n",
      "                                                   \n",
      "                                                   \n",
      "                                                   \n",
      "                                                   \n",
      "41-50 Paradise\n",
      "                                                   \n",
      "                                                   \n",
      "                                                   \n",
      "                                                   \n",
      "                                                   \n",
      "                                                   \n",
      "                                                   \n",
      "                                                   \n",
      "    弥                                              \n",
      "                                                   \n",
      "51-60 Reality\n",
      "                                                   \n",
      "                                                   \n",
      "                                                   \n",
      "                                                   \n",
      "                                                          \n",
      "                                             \n",
      "                                             \n",
      "                                             \n",
      "                                             \n",
      "                                          \n",
      "61-100 Infinity\n",
      "                                                                \n",
      "                                                                 \n",
      "                                                                 \n",
      "                                                                 \n",
      "                                                                 \n",
      "                                                                 \n",
      "                                                                 \n",
      "                                                                 \n",
      "                                                                 \n",
      "                                                                 \n",
      "                                                                 \n",
      "                                                                 \n",
      "                          玺                                      \n",
      "                                                                 \n",
      "                                                                 \n",
      "                                                                 \n",
      "                                                                 \n",
      "                                                                 \n",
      "                                                                 \n",
      "                                                                 \n",
      "                                                                 \n",
      "                                                                 \n",
      "                                                                 \n",
      "                                                                 \n",
      "                                                                 \n",
      "                                                                 \n",
      "                                                                 \n",
      "                                                                 \n",
      "                                                                 \n",
      "                                                                 \n",
      "                                                                 \n",
      "                                                                 \n",
      "                                                                 \n",
      "                                                                 \n",
      "                                                                 \n",
      "                                                                 \n",
      "                                                                 \n",
      "                                                                 \n",
      "                                                                 \n",
      "                                          \n",
      "\n"
     ]
    }
   ],
   "source": [
    "man.check_hlp()"
   ]
  },
  {
   "cell_type": "code",
   "execution_count": 7,
   "metadata": {},
   "outputs": [],
   "source": [
    "man.update('好', '')\n",
    "man.dump()"
   ]
  },
  {
   "cell_type": "code",
   "execution_count": 8,
   "metadata": {},
   "outputs": [
    {
     "data": {
      "text/plain": [
       "{'composition': ['做', '故']}"
      ]
     },
     "execution_count": 8,
     "metadata": {},
     "output_type": "execute_result"
    }
   ],
   "source": [
    "rel.format('做')"
   ]
  },
  {
   "cell_type": "code",
   "execution_count": 9,
   "metadata": {},
   "outputs": [
    {
     "data": {
      "text/plain": [
       "['做', '故']"
      ]
     },
     "execution_count": 9,
     "metadata": {},
     "output_type": "execute_result"
    }
   ],
   "source": [
    "decom.similar('做')"
   ]
  },
  {
   "cell_type": "code",
   "execution_count": null,
   "metadata": {},
   "outputs": [],
   "source": [
    "d.get_sub"
   ]
  }
 ],
 "metadata": {
  "kernelspec": {
   "display_name": "Python 3",
   "language": "python",
   "name": "python3"
  },
  "language_info": {
   "codemirror_mode": {
    "name": "ipython",
    "version": 3
   },
   "file_extension": ".py",
   "mimetype": "text/x-python",
   "name": "python",
   "nbconvert_exporter": "python",
   "pygments_lexer": "ipython3",
   "version": "3.6.4"
  }
 },
 "nbformat": 4,
 "nbformat_minor": 1
}
